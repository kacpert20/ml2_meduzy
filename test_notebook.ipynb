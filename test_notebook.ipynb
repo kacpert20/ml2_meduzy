{
 "cells": [
  {
   "cell_type": "code",
   "execution_count": null,
   "id": "2b307ec5",
   "metadata": {},
   "outputs": [
    {
     "data": {
      "text/plain": [
       "'\\nw tym pliku badam, jakie zdjęcia i jaką strukture mają dane, które są na kagglu, który nam przypadł. \\nNa końcu zdecydowałem się na usunięcie 6 folderów z DATA, ponieważ\\nbyły to duplikaty folderów z train_test_valid/train/\\n'"
      ]
     },
     "execution_count": 5,
     "metadata": {},
     "output_type": "execute_result"
    }
   ],
   "source": [
    "\"\"\"\n",
    "w tym pliku badam, jakie zdjęcia i jaką strukture mają dane, które są na kagglu, który nam przypadł. \n",
    "Na końcu zdecydowałem się na usunięcie 6 folderów z DATA, ponieważ\n",
    "były to duplikaty folderów z train_test_valid/train/\n",
    "doatkowo wychodzi na to, że zdjęcia z test i valid nie pojawiają sie w train, więc możemy zacząć pracować na tych zbiorach\n",
    "\"\"\""
   ]
  },
  {
   "cell_type": "code",
   "execution_count": 4,
   "id": "6e9e900b",
   "metadata": {},
   "outputs": [
    {
     "name": "stdout",
     "output_type": "stream",
     "text": [
      "📂 Struktura folderów:\n",
      "\n",
      "- DATA (0 zdjęć)\n",
      "    - Train_Test_Valid (0 zdjęć)\n",
      "        - test (0 zdjęć)\n",
      "            - barrel_jellyfish (5 zdjęć)\n",
      "            - blue_jellyfish (7 zdjęć)\n",
      "            - compass_jellyfish (7 zdjęć)\n",
      "            - lions_mane_jellyfish (8 zdjęć)\n",
      "            - mauve_stinger_jellyfish (7 zdjęć)\n",
      "            - Moon_jellyfish (6 zdjęć)\n",
      "        - Train (0 zdjęć)\n",
      "            - barrel_jellyfish (150 zdjęć)\n",
      "            - blue_jellyfish (150 zdjęć)\n",
      "            - compass_jellyfish (150 zdjęć)\n",
      "            - lions_mane_jellyfish (150 zdjęć)\n",
      "            - mauve_stinger_jellyfish (150 zdjęć)\n",
      "            - Moon_jellyfish (150 zdjęć)\n",
      "        - valid (0 zdjęć)\n",
      "            - barrel_jellyfish (5 zdjęć)\n",
      "            - blue_jellyfish (7 zdjęć)\n",
      "            - compass_jellyfish (7 zdjęć)\n",
      "            - lions_mane_jellyfish (7 zdjęć)\n",
      "            - mauve_stinger_jellyfish (7 zdjęć)\n",
      "            - Moon_jellyfish (6 zdjęć)\n"
     ]
    }
   ],
   "source": [
    "import os\n",
    "import hashlib\n",
    "from collections import defaultdict\n",
    "\n",
    "# 📍 Ścieżka główna do folderu z danymi\n",
    "DATA_PATH = \"DATA\"\n",
    "\n",
    "def list_folder_structure(base_path):\n",
    "    \"\"\"\n",
    "    Rekurencyjnie wypisuje strukturę katalogów i liczbę zdjęć.\n",
    "    \"\"\"\n",
    "    print(\"📂 Struktura folderów:\\n\")\n",
    "    for root, dirs, files in os.walk(base_path):\n",
    "        level = root.replace(base_path, '').count(os.sep)\n",
    "        indent = ' ' * 4 * level\n",
    "        num_images = len([f for f in files if f.lower().endswith(('.png', '.jpg', '.jpeg'))])\n",
    "        print(f\"{indent}- {os.path.basename(root)} ({num_images} zdjęć)\")\n",
    "\n",
    "list_folder_structure(DATA_PATH)\n"
   ]
  },
  {
   "cell_type": "code",
   "execution_count": 6,
   "id": "d7c054dc",
   "metadata": {},
   "outputs": [
    {
     "name": "stdout",
     "output_type": "stream",
     "text": [
      "🔎 Liczba unikalnych zdjęć: 979\n",
      "⚠️ Liczba hashy przypisanych do więcej niż jednego zdjęcia: 0\n",
      "\n",
      "✅ Brak duplikatów – każdy obraz jest przypisany do dokładnie jednej lokalizacji.\n",
      "\n"
     ]
    }
   ],
   "source": [
    "#Sprawdzenie ile jest unikalnych zdjęć (na podstawie hashy) i ile duplikatów.\n",
    "\n",
    "import os\n",
    "import hashlib\n",
    "from collections import defaultdict\n",
    "\n",
    "DATA_PATH = \"DATA\"\n",
    "\n",
    "def get_all_image_hashes(root_folder):\n",
    "    \"\"\"\n",
    "    Dla każdej podkategorii w strukturze danych zwraca mapę hash -> lista lokalizacji.\n",
    "    \"\"\"\n",
    "    hash_map = defaultdict(list)\n",
    "\n",
    "    for root, _, files in os.walk(root_folder):\n",
    "        for file in files:\n",
    "            if file.lower().endswith(('.png', '.jpg', '.jpeg')):\n",
    "                filepath = os.path.join(root, file)\n",
    "                with open(filepath, 'rb') as f:\n",
    "                    file_hash = hashlib.md5(f.read()).hexdigest()\n",
    "                    hash_map[file_hash].append(filepath)\n",
    "\n",
    "    return hash_map\n",
    "\n",
    "# 📦 Zbieramy wszystkie hashe i ich lokalizacje\n",
    "image_hashes = get_all_image_hashes(DATA_PATH)\n",
    "\n",
    "# 🧹 Sprawdzamy, czy są powtórzenia\n",
    "duplicates = {h: paths for h, paths in image_hashes.items() if len(paths) > 1}\n",
    "\n",
    "# 📊 Raport\n",
    "print(f\"🔎 Liczba unikalnych zdjęć: {len(image_hashes)}\")\n",
    "print(f\"⚠️ Liczba hashy przypisanych do więcej niż jednego zdjęcia: {len(duplicates)}\\n\")\n",
    "\n",
    "if duplicates:\n",
    "    print(\"📌 Duplikaty znalezione!\\n\")\n",
    "    for i, (h, paths) in enumerate(duplicates.items(), 1):\n",
    "        print(f\"{i}. Hash: {h}\")\n",
    "        for p in paths:\n",
    "            print(f\"   - {p}\")\n",
    "        print()\n",
    "else:\n",
    "    print(\"✅ Brak duplikatów – każdy obraz jest przypisany do dokładnie jednej lokalizacji.\\n\")\n"
   ]
  },
  {
   "cell_type": "code",
   "execution_count": 7,
   "id": "89c874db",
   "metadata": {},
   "outputs": [
    {
     "ename": "FileNotFoundError",
     "evalue": "[WinError 3] System nie może odnaleźć określonej ścieżki: 'DATA/barrel_jellyfish'",
     "output_type": "error",
     "traceback": [
      "\u001b[31m---------------------------------------------------------------------------\u001b[39m",
      "\u001b[31mFileNotFoundError\u001b[39m                         Traceback (most recent call last)",
      "\u001b[36mCell\u001b[39m\u001b[36m \u001b[39m\u001b[32mIn[7]\u001b[39m\u001b[32m, line 13\u001b[39m\n\u001b[32m      3\u001b[39m to_remove = [\n\u001b[32m      4\u001b[39m     \u001b[33m\"\u001b[39m\u001b[33mDATA/barrel_jellyfish\u001b[39m\u001b[33m\"\u001b[39m,\n\u001b[32m      5\u001b[39m     \u001b[33m\"\u001b[39m\u001b[33mDATA/blue_jellyfish\u001b[39m\u001b[33m\"\u001b[39m,\n\u001b[32m   (...)\u001b[39m\u001b[32m      9\u001b[39m     \u001b[33m\"\u001b[39m\u001b[33mDATA/Moon_jellyfish\u001b[39m\u001b[33m\"\u001b[39m\n\u001b[32m     10\u001b[39m ]\n\u001b[32m     12\u001b[39m \u001b[38;5;28;01mfor\u001b[39;00m folder \u001b[38;5;129;01min\u001b[39;00m to_remove:\n\u001b[32m---> \u001b[39m\u001b[32m13\u001b[39m     \u001b[43mshutil\u001b[49m\u001b[43m.\u001b[49m\u001b[43mrmtree\u001b[49m\u001b[43m(\u001b[49m\u001b[43mfolder\u001b[49m\u001b[43m)\u001b[49m\n\u001b[32m     14\u001b[39m     \u001b[38;5;28mprint\u001b[39m(\u001b[33mf\u001b[39m\u001b[33m\"\u001b[39m\u001b[33m✅ Usunięto folder: \u001b[39m\u001b[38;5;132;01m{\u001b[39;00mfolder\u001b[38;5;132;01m}\u001b[39;00m\u001b[33m\"\u001b[39m)\n",
      "\u001b[36mFile \u001b[39m\u001b[32mC:\\Program Files\\WindowsApps\\PythonSoftwareFoundation.Python.3.11_3.11.2544.0_x64__qbz5n2kfra8p0\\Lib\\shutil.py:787\u001b[39m, in \u001b[36mrmtree\u001b[39m\u001b[34m(path, ignore_errors, onerror, dir_fd)\u001b[39m\n\u001b[32m    785\u001b[39m     \u001b[38;5;66;03m# can't continue even if onerror hook returns\u001b[39;00m\n\u001b[32m    786\u001b[39m     \u001b[38;5;28;01mreturn\u001b[39;00m\n\u001b[32m--> \u001b[39m\u001b[32m787\u001b[39m \u001b[38;5;28;01mreturn\u001b[39;00m \u001b[43m_rmtree_unsafe\u001b[49m\u001b[43m(\u001b[49m\u001b[43mpath\u001b[49m\u001b[43m,\u001b[49m\u001b[43m \u001b[49m\u001b[43monerror\u001b[49m\u001b[43m)\u001b[49m\n",
      "\u001b[36mFile \u001b[39m\u001b[32mC:\\Program Files\\WindowsApps\\PythonSoftwareFoundation.Python.3.11_3.11.2544.0_x64__qbz5n2kfra8p0\\Lib\\shutil.py:615\u001b[39m, in \u001b[36m_rmtree_unsafe\u001b[39m\u001b[34m(path, onerror)\u001b[39m\n\u001b[32m    613\u001b[39m         entries = \u001b[38;5;28mlist\u001b[39m(scandir_it)\n\u001b[32m    614\u001b[39m \u001b[38;5;28;01mexcept\u001b[39;00m \u001b[38;5;167;01mOSError\u001b[39;00m:\n\u001b[32m--> \u001b[39m\u001b[32m615\u001b[39m     \u001b[43monerror\u001b[49m\u001b[43m(\u001b[49m\u001b[43mos\u001b[49m\u001b[43m.\u001b[49m\u001b[43mscandir\u001b[49m\u001b[43m,\u001b[49m\u001b[43m \u001b[49m\u001b[43mpath\u001b[49m\u001b[43m,\u001b[49m\u001b[43m \u001b[49m\u001b[43msys\u001b[49m\u001b[43m.\u001b[49m\u001b[43mexc_info\u001b[49m\u001b[43m(\u001b[49m\u001b[43m)\u001b[49m\u001b[43m)\u001b[49m\n\u001b[32m    616\u001b[39m     entries = []\n\u001b[32m    617\u001b[39m \u001b[38;5;28;01mfor\u001b[39;00m entry \u001b[38;5;129;01min\u001b[39;00m entries:\n",
      "\u001b[36mFile \u001b[39m\u001b[32mC:\\Program Files\\WindowsApps\\PythonSoftwareFoundation.Python.3.11_3.11.2544.0_x64__qbz5n2kfra8p0\\Lib\\shutil.py:612\u001b[39m, in \u001b[36m_rmtree_unsafe\u001b[39m\u001b[34m(path, onerror)\u001b[39m\n\u001b[32m    610\u001b[39m \u001b[38;5;28;01mdef\u001b[39;00m\u001b[38;5;250m \u001b[39m\u001b[34m_rmtree_unsafe\u001b[39m(path, onerror):\n\u001b[32m    611\u001b[39m     \u001b[38;5;28;01mtry\u001b[39;00m:\n\u001b[32m--> \u001b[39m\u001b[32m612\u001b[39m         \u001b[38;5;28;01mwith\u001b[39;00m \u001b[43mos\u001b[49m\u001b[43m.\u001b[49m\u001b[43mscandir\u001b[49m\u001b[43m(\u001b[49m\u001b[43mpath\u001b[49m\u001b[43m)\u001b[49m \u001b[38;5;28;01mas\u001b[39;00m scandir_it:\n\u001b[32m    613\u001b[39m             entries = \u001b[38;5;28mlist\u001b[39m(scandir_it)\n\u001b[32m    614\u001b[39m     \u001b[38;5;28;01mexcept\u001b[39;00m \u001b[38;5;167;01mOSError\u001b[39;00m:\n",
      "\u001b[31mFileNotFoundError\u001b[39m: [WinError 3] System nie może odnaleźć określonej ścieżki: 'DATA/barrel_jellyfish'"
     ]
    }
   ],
   "source": [
    "import shutil\n",
    "\n",
    "to_remove = [\n",
    "    \"DATA/barrel_jellyfish\",\n",
    "    \"DATA/blue_jellyfish\",\n",
    "    \"DATA/compass_jellyfish\",\n",
    "    \"DATA/lions_mane_jellyfish\",\n",
    "    \"DATA/mauve_stinger_jellyfish\",\n",
    "    \"DATA/Moon_jellyfish\"\n",
    "]\n",
    "\n",
    "for folder in to_remove:\n",
    "    shutil.rmtree(folder)\n",
    "    print(f\"✅ Usunięto folder: {folder}\")\n"
   ]
  }
 ],
 "metadata": {
  "kernelspec": {
   "display_name": "Python 3",
   "language": "python",
   "name": "python3"
  },
  "language_info": {
   "codemirror_mode": {
    "name": "ipython",
    "version": 3
   },
   "file_extension": ".py",
   "mimetype": "text/x-python",
   "name": "python",
   "nbconvert_exporter": "python",
   "pygments_lexer": "ipython3",
   "version": "3.11.9"
  }
 },
 "nbformat": 4,
 "nbformat_minor": 5
}
