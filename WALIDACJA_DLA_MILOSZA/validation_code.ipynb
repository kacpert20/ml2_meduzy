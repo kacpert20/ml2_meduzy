{
 "cells": [
  {
   "cell_type": "code",
   "execution_count": null,
   "id": "1ee68b9e",
   "metadata": {},
   "outputs": [],
   "source": [
    "import pandas as pd\n",
    "import joblib\n",
    "\n",
    "# Wczytaj dane walidacyjne (już przeskalowane PCA10)\n",
    "X_val = pd.read_csv(\"val_pca10.csv\")\n",
    "\n",
    "# Wczytaj model\n",
    "model = joblib.load(\"hierarchical_model.joblib\")\n",
    "\n",
    "# Przewidzenie etykiet (klastrów)\n",
    "labels = model.fit_predict(X_val)\n",
    "\n",
    "# Zapisz wyniki do CSV\n",
    "pd.DataFrame({'Cluster': labels}).to_csv(\"val_clusters.csv\", index=False)\n",
    "print(\"Predykcje zapisane w val_clusters.csv.\")\n"
   ]
  }
 ],
 "metadata": {
  "language_info": {
   "name": "python"
  }
 },
 "nbformat": 4,
 "nbformat_minor": 5
}
